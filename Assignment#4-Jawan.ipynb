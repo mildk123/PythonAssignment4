{
 "cells": [
  {
   "cell_type": "markdown",
   "id": "c7aaa6e7",
   "metadata": {},
   "source": [
    "# 1. Make a calculator using Python with addition , subtraction ,multiplication ,division and power."
   ]
  },
  {
   "cell_type": "code",
   "execution_count": 7,
   "id": "43be9029",
   "metadata": {},
   "outputs": [
    {
     "name": "stdout",
     "output_type": "stream",
     "text": [
      "Which arthimetic operation you want to perform?.\n",
      "1.Addition\n",
      "2.Subtraction\n",
      "3.Multiplication\n",
      "4.Division\n",
      "5.Power\n",
      "Enter Opertaion Code: 1\n",
      "Enter first number: 10\n",
      "Enter second number: 12\n",
      "Value: 22.0\n",
      "Enter Opertaion Code: 2\n",
      "Enter first number: 25\n",
      "Enter second number: 3\n",
      "Value: 22.0\n",
      "Enter Opertaion Code: 3\n",
      "Enter first number: 3\n",
      "Enter second number: 5\n",
      "Value: 15.0\n",
      "Enter Opertaion Code: 20\n",
      "Please enter correct values!\n",
      "Enter Opertaion Code: 5\n",
      "Enter first number: 20\n",
      "Enter second number: 2\n",
      "Value: 400.0\n",
      "Enter Opertaion Code: 4\n",
      "Enter first number: 20\n",
      "Enter second number: 5\n",
      "Value: 4.0\n"
     ]
    },
    {
     "ename": "KeyboardInterrupt",
     "evalue": "Interrupted by user",
     "output_type": "error",
     "traceback": [
      "\u001b[1;31m---------------------------------------------------------------------------\u001b[0m",
      "\u001b[1;31mKeyboardInterrupt\u001b[0m                         Traceback (most recent call last)",
      "\u001b[1;32m<ipython-input-7-d9e3444ffede>\u001b[0m in \u001b[0;36m<module>\u001b[1;34m\u001b[0m\n\u001b[0;32m     19\u001b[0m \u001b[1;33m\u001b[0m\u001b[0m\n\u001b[0;32m     20\u001b[0m \u001b[1;32mwhile\u001b[0m \u001b[1;32mTrue\u001b[0m\u001b[1;33m:\u001b[0m\u001b[1;33m\u001b[0m\u001b[1;33m\u001b[0m\u001b[0m\n\u001b[1;32m---> 21\u001b[1;33m     \u001b[0muserInput\u001b[0m \u001b[1;33m=\u001b[0m \u001b[0minput\u001b[0m\u001b[1;33m(\u001b[0m\u001b[1;34m\"Enter Opertaion Code: \"\u001b[0m\u001b[1;33m)\u001b[0m\u001b[1;33m\u001b[0m\u001b[1;33m\u001b[0m\u001b[0m\n\u001b[0m\u001b[0;32m     22\u001b[0m     \u001b[1;32mif\u001b[0m \u001b[0muserInput\u001b[0m \u001b[1;32min\u001b[0m \u001b[1;33m(\u001b[0m\u001b[1;34m'1'\u001b[0m\u001b[1;33m,\u001b[0m \u001b[1;34m'2'\u001b[0m\u001b[1;33m,\u001b[0m \u001b[1;34m'3'\u001b[0m\u001b[1;33m,\u001b[0m \u001b[1;34m'4'\u001b[0m\u001b[1;33m,\u001b[0m\u001b[1;34m'5'\u001b[0m\u001b[1;33m)\u001b[0m\u001b[1;33m:\u001b[0m\u001b[1;33m\u001b[0m\u001b[1;33m\u001b[0m\u001b[0m\n\u001b[0;32m     23\u001b[0m         \u001b[0mnum1\u001b[0m \u001b[1;33m=\u001b[0m \u001b[0mfloat\u001b[0m\u001b[1;33m(\u001b[0m\u001b[0minput\u001b[0m\u001b[1;33m(\u001b[0m\u001b[1;34m\"Enter first number: \"\u001b[0m\u001b[1;33m)\u001b[0m\u001b[1;33m)\u001b[0m\u001b[1;33m\u001b[0m\u001b[1;33m\u001b[0m\u001b[0m\n",
      "\u001b[1;32m~\\anaconda3\\lib\\site-packages\\ipykernel\\kernelbase.py\u001b[0m in \u001b[0;36mraw_input\u001b[1;34m(self, prompt)\u001b[0m\n\u001b[0;32m    858\u001b[0m                 \u001b[1;34m\"raw_input was called, but this frontend does not support input requests.\"\u001b[0m\u001b[1;33m\u001b[0m\u001b[1;33m\u001b[0m\u001b[0m\n\u001b[0;32m    859\u001b[0m             )\n\u001b[1;32m--> 860\u001b[1;33m         return self._input_request(str(prompt),\n\u001b[0m\u001b[0;32m    861\u001b[0m             \u001b[0mself\u001b[0m\u001b[1;33m.\u001b[0m\u001b[0m_parent_ident\u001b[0m\u001b[1;33m,\u001b[0m\u001b[1;33m\u001b[0m\u001b[1;33m\u001b[0m\u001b[0m\n\u001b[0;32m    862\u001b[0m             \u001b[0mself\u001b[0m\u001b[1;33m.\u001b[0m\u001b[0m_parent_header\u001b[0m\u001b[1;33m,\u001b[0m\u001b[1;33m\u001b[0m\u001b[1;33m\u001b[0m\u001b[0m\n",
      "\u001b[1;32m~\\anaconda3\\lib\\site-packages\\ipykernel\\kernelbase.py\u001b[0m in \u001b[0;36m_input_request\u001b[1;34m(self, prompt, ident, parent, password)\u001b[0m\n\u001b[0;32m    902\u001b[0m             \u001b[1;32mexcept\u001b[0m \u001b[0mKeyboardInterrupt\u001b[0m\u001b[1;33m:\u001b[0m\u001b[1;33m\u001b[0m\u001b[1;33m\u001b[0m\u001b[0m\n\u001b[0;32m    903\u001b[0m                 \u001b[1;31m# re-raise KeyboardInterrupt, to truncate traceback\u001b[0m\u001b[1;33m\u001b[0m\u001b[1;33m\u001b[0m\u001b[1;33m\u001b[0m\u001b[0m\n\u001b[1;32m--> 904\u001b[1;33m                 \u001b[1;32mraise\u001b[0m \u001b[0mKeyboardInterrupt\u001b[0m\u001b[1;33m(\u001b[0m\u001b[1;34m\"Interrupted by user\"\u001b[0m\u001b[1;33m)\u001b[0m \u001b[1;32mfrom\u001b[0m \u001b[1;32mNone\u001b[0m\u001b[1;33m\u001b[0m\u001b[1;33m\u001b[0m\u001b[0m\n\u001b[0m\u001b[0;32m    905\u001b[0m             \u001b[1;32mexcept\u001b[0m \u001b[0mException\u001b[0m \u001b[1;32mas\u001b[0m \u001b[0me\u001b[0m\u001b[1;33m:\u001b[0m\u001b[1;33m\u001b[0m\u001b[1;33m\u001b[0m\u001b[0m\n\u001b[0;32m    906\u001b[0m                 \u001b[0mself\u001b[0m\u001b[1;33m.\u001b[0m\u001b[0mlog\u001b[0m\u001b[1;33m.\u001b[0m\u001b[0mwarning\u001b[0m\u001b[1;33m(\u001b[0m\u001b[1;34m\"Invalid Message:\"\u001b[0m\u001b[1;33m,\u001b[0m \u001b[0mexc_info\u001b[0m\u001b[1;33m=\u001b[0m\u001b[1;32mTrue\u001b[0m\u001b[1;33m)\u001b[0m\u001b[1;33m\u001b[0m\u001b[1;33m\u001b[0m\u001b[0m\n",
      "\u001b[1;31mKeyboardInterrupt\u001b[0m: Interrupted by user"
     ]
    }
   ],
   "source": [
    "def Addition(a,b):\n",
    "    return a + b\n",
    "def Difference(a, b):\n",
    "    return a - b\n",
    "def Product(a, b):\n",
    "    return a * b\n",
    "def Division(a, b):\n",
    "    return a / b\n",
    "def Power(a, b):\n",
    "    return a**b\n",
    "\n",
    "\n",
    "print(\"Which arthimetic operation you want to perform?.\")\n",
    "print(\"1.Addition\")\n",
    "print(\"2.Subtraction\")\n",
    "print(\"3.Multiplication\")\n",
    "print(\"4.Division\")\n",
    "print(\"5.Power\")\n",
    "\n",
    "while True:\n",
    "    userInput = input(\"Enter Opertaion Code: \")\n",
    "    if userInput in ('1', '2', '3', '4','5'):\n",
    "        num1 = float(input(\"Enter first number: \"))\n",
    "        num2 = float(input(\"Enter second number: \"))\n",
    "\n",
    "        if userInput == '1':\n",
    "            print(\"Value:\", Addition(num1, num2))\n",
    "\n",
    "        elif userInput == '2':\n",
    "            print(\"Value:\", Difference(num1, num2))\n",
    "\n",
    "        elif userInput == '3':\n",
    "            print(\"Value:\", Product(num1, num2))\n",
    "\n",
    "        elif userInput == '4':\n",
    "            print(\"Value:\", Division(num1, num2))\n",
    "            \n",
    "        elif userInput == '5':\n",
    "            print(\"Value:\", Power(num1, num2))   \n",
    "    else:\n",
    "        print(\"Please enter correct values!\")"
   ]
  },
  {
   "cell_type": "markdown",
   "id": "dd7032c0",
   "metadata": {},
   "source": [
    "# 2. Write a program to check if there is any numeric value in list using for loop."
   ]
  },
  {
   "cell_type": "code",
   "execution_count": 12,
   "id": "fd6f9b3d",
   "metadata": {},
   "outputs": [
    {
     "name": "stdout",
     "output_type": "stream",
     "text": [
      "1\n",
      "4\n"
     ]
    }
   ],
   "source": [
    "list = [\"test\", 1,\"One\",4,\"Soup\"]\n",
    "for x in list:\n",
    "    if type(x)==int:\n",
    "        print(x)"
   ]
  },
  {
   "cell_type": "markdown",
   "id": "5a1a77a7",
   "metadata": {},
   "source": [
    "# 3. Write a Python script to add a key to a dictionary."
   ]
  },
  {
   "cell_type": "code",
   "execution_count": 18,
   "id": "2a59997e",
   "metadata": {},
   "outputs": [
    {
     "name": "stdout",
     "output_type": "stream",
     "text": [
      "My Dictionary:  {'key1': 'One', 'key2': 'Two', 'key3': 'Three'}\n",
      "New State:  {'key1': 'One', 'key2': 'Two', 'key3': 'Three', 'New': 'New Word'}\n"
     ]
    }
   ],
   "source": [
    "myDict = {'key1':'One', 'key2':'Two', 'key3':'Three'}\n",
    "print(\"My Dictionary: \", myDict)\n",
    "myDict['New'] = 'New Word'\n",
    "print(\"New State: \", myDict)"
   ]
  },
  {
   "cell_type": "markdown",
   "id": "0bc61285",
   "metadata": {},
   "source": [
    "# 4. Write a Python program to sum all the numeric items in a dictionary."
   ]
  },
  {
   "cell_type": "code",
   "execution_count": 21,
   "id": "7706e4c9",
   "metadata": {},
   "outputs": [
    {
     "name": "stdout",
     "output_type": "stream",
     "text": [
      "SUM OF MY DICT: 393\n"
     ]
    }
   ],
   "source": [
    "myDict={'One':241,'Two':43,'Three':54,'Four':55}\n",
    "print(\"SUM OF MY DICT:\", sum(myDict.values()))"
   ]
  },
  {
   "cell_type": "markdown",
   "id": "a24ffaa8",
   "metadata": {},
   "source": [
    "# 5. Write a program to identify duplicate values from list."
   ]
  },
  {
   "cell_type": "code",
   "execution_count": 28,
   "id": "096eb42b",
   "metadata": {},
   "outputs": [
    {
     "name": "stdout",
     "output_type": "stream",
     "text": [
      "Duplicate Val: 11\n",
      "Duplicate Val: 35\n",
      "Duplicate Val: 54\n"
     ]
    }
   ],
   "source": [
    "myList=[11,35,11,54,24,35,54,1,32];\n",
    "\n",
    "for i in range(0, len(myList)):\n",
    "    for j in range(i+1, len(myList)):\n",
    "        if(myList[i]==myList[j]):\n",
    "            print(\"Duplicate Val:\", myList[j])\n",
    "            \n",
    "        "
   ]
  },
  {
   "cell_type": "markdown",
   "id": "d75b0a5a",
   "metadata": {},
   "source": [
    "# 6. Write a Python script to check if a given key already exists in a dictionary"
   ]
  },
  {
   "cell_type": "code",
   "execution_count": 43,
   "id": "c67581eb",
   "metadata": {},
   "outputs": [
    {
     "name": "stdout",
     "output_type": "stream",
     "text": [
      "Three | Key already present!\n",
      "Banana | is a valid key.\n"
     ]
    }
   ],
   "source": [
    "myDict = {\"One\": 1, \"Two\": 2, \"Three\": 3, \"Four\": 4}\n",
    "\n",
    "def checkKey(x):\n",
    "    if x in myDict:\n",
    "        print(x, '| Key already present!')\n",
    "    else:\n",
    "        print(x, \"| is a valid key.\")\n",
    "\n",
    "\n",
    "checkKey(\"Three\")\n",
    "checkKey(\"Banana\")\n"
   ]
  },
  {
   "cell_type": "code",
   "execution_count": null,
   "id": "67429e89",
   "metadata": {},
   "outputs": [],
   "source": [
    "\"\""
   ]
  }
 ],
 "metadata": {
  "kernelspec": {
   "display_name": "Python 3",
   "language": "python",
   "name": "python3"
  },
  "language_info": {
   "codemirror_mode": {
    "name": "ipython",
    "version": 3
   },
   "file_extension": ".py",
   "mimetype": "text/x-python",
   "name": "python",
   "nbconvert_exporter": "python",
   "pygments_lexer": "ipython3",
   "version": "3.8.8"
  }
 },
 "nbformat": 4,
 "nbformat_minor": 5
}
